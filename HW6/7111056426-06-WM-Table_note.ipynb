{
 "cells": [
  {
   "cell_type": "code",
   "execution_count": 1,
   "metadata": {},
   "outputs": [],
   "source": [
    "import numpy as np # array operations\n",
    "import cv2 #opencv library read img operations\n",
    "\n",
    "# data visualisation and manipulation\n",
    "import matplotlib.pyplot as plt #show img and table\n",
    "\n",
    "# 產生 random seed\n",
    "import random\n",
    "import math\n",
    "\n",
    "# sort table by R and SE\n",
    "from operator import itemgetter, attrgetter"
   ]
  },
  {
   "attachments": {},
   "cell_type": "markdown",
   "metadata": {},
   "source": [
    "輸入參數為(n, M, W[w1, w2, …, wn])，其中<br>\n",
    "(1) n 代表 number of pixel cluster，n≥ 2, n≤ 6為正整數。<br>\n",
    "(2) M 代表秘密訊息為 M 進制，2≤M≤1024。<br>\n",
    "(3) W[w1, w2, …, wn]為 n-tuple 嵌入權重向量(embedding weight vector)。<br>\n",
    "\n",
    "程式\n",
    "1. 先設定執行迴圈之基本上限與下限 q，where q = √𝑀𝑛 − 1\n",
    "2. 求出執行迴圈之最終上限與下限 v，where v = ⌈√𝑞2 × 𝑛⌉\n"
   ]
  },
  {
   "cell_type": "code",
   "execution_count": 3,
   "metadata": {},
   "outputs": [
    {
     "name": "stdout",
     "output_type": "stream",
     "text": [
      "1.236068 2\n"
     ]
    }
   ],
   "source": [
    "if __name__ == '__main__':\n",
    "    n=0\n",
    "    M=0\n",
    "    \n",
    "    while n<2 or n>6:\n",
    "        n = input(\"n≥2, n≤6 為正整數 n: number of pixels in a cluster(n):\")\n",
    "        n = int(n)\n",
    "    while M<2 or M>1024:\n",
    "        M = input(\"M≥2, M≤1024 為正整數 M: M 代表秘密訊息為 M 進制:\")\n",
    "        M = int(M)\n",
    "    w=np.zeros(n,dtype=np.uint8)\n",
    "    for i in range(n):\n",
    "        w[i] = input(f\"w[{i}]:\")\n",
    "        w[i] = int(w[i])\n",
    "\n",
    "    q = np.round(math.pow(M,1/n) - 1,6)\n",
    "    v = math.ceil(math.sqrt(math.pow(q,2) * n))\n",
    "    \n",
    "    print(q,v)"
   ]
  },
  {
   "cell_type": "code",
   "execution_count": 47,
   "metadata": {},
   "outputs": [
    {
     "data": {
      "text/plain": [
       "array([-2,  0], dtype=int8)"
      ]
     },
     "execution_count": 47,
     "metadata": {},
     "output_type": "execute_result"
    }
   ],
   "source": [
    "# 計算餘值變動表(Residue Table)\n",
    "def cal_Residue_Table(slots,w):\n",
    "    r=slots * w\n",
    "    se=slots\n",
    "    return "
   ]
  },
  {
   "cell_type": "code",
   "execution_count": 4,
   "metadata": {},
   "outputs": [
    {
     "name": "stdout",
     "output_type": "stream",
     "text": [
      "[[13, array([0, 0], dtype=int8), 0, 0], [4, array([-2,  1], dtype=int8), 0, 5], [6, array([-1, -2], dtype=int8), 0, 5], [20, array([1, 2], dtype=int8), 0, 5], [22, array([ 2, -1], dtype=int8), 0, 5], [18, array([1, 0], dtype=int8), 1, 1], [9, array([-1,  1], dtype=int8), 1, 2], [11, array([ 0, -2], dtype=int8), 1, 4], [2, array([-2, -1], dtype=int8), 1, 5], [25, array([2, 2], dtype=int8), 1, 8], [14, array([0, 1], dtype=int8), 2, 1], [7, array([-1, -1], dtype=int8), 2, 2], [23, array([2, 0], dtype=int8), 2, 4], [16, array([ 1, -2], dtype=int8), 2, 5], [5, array([-2,  2], dtype=int8), 2, 8], [12, array([ 0, -1], dtype=int8), 3, 1], [19, array([1, 1], dtype=int8), 3, 2], [3, array([-2,  0], dtype=int8), 3, 4], [10, array([-1,  2], dtype=int8), 3, 5], [21, array([ 2, -2], dtype=int8), 3, 8], [8, array([-1,  0], dtype=int8), 4, 1], [17, array([ 1, -1], dtype=int8), 4, 2], [15, array([0, 2], dtype=int8), 4, 4], [24, array([2, 1], dtype=int8), 4, 5], [1, array([-2, -2], dtype=int8), 4, 8]]\n"
     ]
    }
   ],
   "source": [
    "# maxLoop迴圈之最終上限 : -v ~ +v\n",
    "# n:n 個迴圈 w[w1,w2,...wn]\n",
    "def IterativeNestedLoop(v,n,w,M):\n",
    "    table=[]\n",
    "    ID=1\n",
    "    \n",
    "    for i in range(n): \n",
    "        # n:slot長度 v=填入值\n",
    "        slots=np.full(n,-v,dtype='int8')\n",
    "    \n",
    "    index = n-1\n",
    "    while(True):\n",
    "        # print(slots)\n",
    "        \n",
    "        # 計算餘值變動表(Residue Table)\n",
    "        # R(i, j)= (i, j)∙ (1, 2) mod 5\n",
    "        R = np.sum(slots*w) % M\n",
    "        # SE(i, j)= 𝑖 平方 + 𝑗 平方\n",
    "        SE = np.sum(np.power(slots,2))\n",
    "        # [r1=i=slots[i],r2=j=slots[j],R,SE]\n",
    "        table.append([ID,slots.copy(),R,SE])\n",
    "        ID+=1\n",
    "        slots[n-1]+=1\n",
    "        while(slots[index]==v+1):\n",
    "            if(index==0):\n",
    "                # stop end for loop\n",
    "                return table;\n",
    "            # last index restore -v then next round              \n",
    "            slots[index:]=-v\n",
    "\n",
    "            index-=1 \n",
    "            slots[index]+=1\n",
    "        index=n-1\n",
    "table=IterativeNestedLoop(v=v,n=n,w=w,M=M)\n",
    "# 依照 R 來排序，若相同，則依照 SE 由小而大排序\n",
    "table=sorted(table, key = itemgetter(2, 3))   \n",
    "print(table)"
   ]
  },
  {
   "cell_type": "code",
   "execution_count": 12,
   "metadata": {},
   "outputs": [
    {
     "data": {
      "text/plain": [
       "-1"
      ]
     },
     "execution_count": 12,
     "metadata": {},
     "output_type": "execute_result"
    }
   ],
   "source": [
    "table[2][1][0]"
   ]
  },
  {
   "cell_type": "code",
   "execution_count": 13,
   "metadata": {},
   "outputs": [
    {
     "data": {
      "text/plain": [
       "{0: [[0, 5, -2, 1], [0, 5, -1, -2], [0, 5, 1, 2], [0, 5, 2, -1]],\n",
       " 1: [[1, 2, -1, 1], [1, 4, 0, -2], [1, 5, -2, -1], [1, 8, 2, 2]],\n",
       " 2: [[2, 2, -1, -1], [2, 4, 2, 0], [2, 5, 1, -2], [2, 8, -2, 2]],\n",
       " 3: [[3, 2, 1, 1], [3, 4, -2, 0], [3, 5, -1, 2], [3, 8, 2, -2]],\n",
       " 4: [[4, 2, 1, -1], [4, 4, 0, 2], [4, 5, 2, 1], [4, 8, -2, -2]]}"
      ]
     },
     "execution_count": 13,
     "metadata": {},
     "output_type": "execute_result"
    }
   ],
   "source": [
    "# table[index][0]:ID\n",
    "# table[index][1]:[r1,r2]\n",
    "# table[index][2]:[R] = d\n",
    "# table[index][3]:[SE]\n",
    "\n",
    "homogeneous_table={}\n",
    "distortion_table={}\n",
    "for d in range(int(M)):\n",
    "    homogeneous_table[d]=[]\n",
    "    distortion_table[d]=[]\n",
    "for i in range(len(table)):\n",
    "    if(table[i][2]!=table[i-1][2]):\n",
    "        distortion_table[table[i][2]].append([table[i][2],table[i][3],table[i][1][0],table[i][1][1]])\n",
    "        # distortion_table[table[i][2]].append([table[i][0],table[i][1]])\n",
    "    else:\n",
    "        homogeneous_table[table[i][2]].append([table[i][2],table[i][3],table[i][1][0],table[i][1][1]])\n",
    "        # homogeneous_table[table[i][2]].append([table[i][0],table[i][1]])\n",
    "homogeneous_table"
   ]
  },
  {
   "cell_type": "code",
   "execution_count": 14,
   "metadata": {},
   "outputs": [
    {
     "data": {
      "text/plain": [
       "{0: [[0, 0, 0, 0]],\n",
       " 1: [[1, 1, 1, 0]],\n",
       " 2: [[2, 1, 0, 1]],\n",
       " 3: [[3, 1, 0, -1]],\n",
       " 4: [[4, 1, -1, 0]]}"
      ]
     },
     "execution_count": 14,
     "metadata": {},
     "output_type": "execute_result"
    }
   ],
   "source": [
    "distortion_table"
   ]
  },
  {
   "cell_type": "code",
   "execution_count": 48,
   "metadata": {},
   "outputs": [
    {
     "name": "stdout",
     "output_type": "stream",
     "text": [
      "[-2 -2]\n",
      "[-2 -1]\n",
      "[-2  0]\n",
      "[-2  1]\n",
      "[-2  2]\n",
      "index 1\n",
      "[-1 -2]\n",
      "[-1 -1]\n",
      "[-1  0]\n",
      "[-1  1]\n",
      "[-1  2]\n",
      "index 1\n",
      "[ 0 -2]\n",
      "[ 0 -1]\n",
      "[0 0]\n",
      "[0 1]\n",
      "[0 2]\n",
      "index 1\n",
      "[ 1 -2]\n",
      "[ 1 -1]\n",
      "[1 0]\n",
      "[1 1]\n",
      "[1 2]\n",
      "index 1\n",
      "[ 2 -2]\n",
      "[ 2 -1]\n",
      "[2 0]\n",
      "[2 1]\n",
      "[2 2]\n",
      "index 1\n",
      "index 0\n"
     ]
    },
    {
     "data": {
      "text/plain": [
       "'stop'"
      ]
     },
     "execution_count": 48,
     "metadata": {},
     "output_type": "execute_result"
    }
   ],
   "source": [
    "# maxLoop : -v ~ +v\n",
    "# depth : n\n",
    "def IterativeNestedLoop(v,depth,maxLoop):\n",
    "    for i in range(depth): \n",
    "        slots=np.full(depth,-v,dtype='int8')\n",
    "        # slots=np.zeros(depth,dtype='uint8')\n",
    "    \n",
    "    index = depth-1\n",
    "    while(True):\n",
    "        print(slots)\n",
    "        slots[depth-1]+=1\n",
    "        while(slots[index]==maxLoop):\n",
    "            print(\"index\",index)\n",
    "            if(index==0):\n",
    "                return \"stop\";          \n",
    "            slots[index:]=-v\n",
    "            index-=1 \n",
    "            slots[index]+=1\n",
    "        index=depth-1\n",
    "        \n",
    "IterativeNestedLoop(2,2,3)   "
   ]
  },
  {
   "cell_type": "code",
   "execution_count": null,
   "metadata": {},
   "outputs": [],
   "source": [
    "def dynamicLoopCBV(F,b,depth,maxLoop):\n",
    "    CBV=[]\n",
    "    CBV_M=[]\n",
    "    CBV_EMSE=[]\n",
    "    \n",
    "    for i in range(depth): \n",
    "        slots=np.full(depth,b-2,dtype='uint8')\n",
    "    \n",
    "    index = depth-1\n",
    "    while(True):\n",
    "#         print(slots)\n",
    "        slots_M=cal_M(slots)\n",
    "        is_acending=all([slots[i] <= slots[i+1] for i in range(len(slots)-1)])\n",
    "        is_correctM=slots_M >= F\n",
    "        if(is_acending and is_correctM):\n",
    "#             print(\"CBV=\",slots)\n",
    "            CBV.append(np.array(slots))\n",
    "            CBV_M.append(slots_M)\n",
    "            CBV_EMSE.append(EMSE(slots))\n",
    "        slots[depth-1]+=1\n",
    "        while(slots[index]==maxLoop+1):\n",
    "            if(index==0):\n",
    "                return CBV, CBV_M,CBV_EMSE         \n",
    "            slots[index:]=b-2\n",
    "            index-=1 \n",
    "            slots[index]+=1\n",
    "        index=depth-1\n",
    "\n",
    "CBV, CBV_M,CBV_EMSE=dynamicLoopCBV(49,3,2,6)"
   ]
  },
  {
   "cell_type": "code",
   "execution_count": null,
   "metadata": {},
   "outputs": [],
   "source": []
  },
  {
   "cell_type": "code",
   "execution_count": null,
   "metadata": {},
   "outputs": [],
   "source": []
  },
  {
   "cell_type": "code",
   "execution_count": null,
   "metadata": {},
   "outputs": [],
   "source": []
  }
 ],
 "metadata": {
  "kernelspec": {
   "display_name": "Python 3",
   "language": "python",
   "name": "python3"
  },
  "language_info": {
   "codemirror_mode": {
    "name": "ipython",
    "version": 3
   },
   "file_extension": ".py",
   "mimetype": "text/x-python",
   "name": "python",
   "nbconvert_exporter": "python",
   "pygments_lexer": "ipython3",
   "version": "3.9.13"
  },
  "orig_nbformat": 4,
  "vscode": {
   "interpreter": {
    "hash": "afdb5520ac23d191c752ab4f896a0a32990da6bbad79f0420a69aeb5b91f876d"
   }
  }
 },
 "nbformat": 4,
 "nbformat_minor": 2
}
