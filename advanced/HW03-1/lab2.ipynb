{
 "cells": [
  {
   "cell_type": "code",
   "execution_count": 61,
   "id": "6323ff1b",
   "metadata": {},
   "outputs": [],
   "source": [
    "import numpy as np # array operations\n",
    "import cv2 #opencv library read img operations\n",
    "import os # use directory & join path\n",
    "from pathlib import Path # 去掉副檔名\n",
    "import pandas as pd # 匯出 csv\n",
    "import struct\n",
    "from skimage import io\n",
    "from skimage import color\n",
    "from skimage.util import img_as_ubyte\n",
    "\n",
    "# data visualisation and manipulation\n",
    "import matplotlib.pyplot as plt #show img and table"
   ]
  },
  {
   "cell_type": "code",
   "execution_count": 62,
   "id": "3863dd24",
   "metadata": {},
   "outputs": [],
   "source": [
    "getBin = lambda x: x > 0 and str(bin(x))[2:] or \"-\" + str(bin(x))[3:]\n",
    " \n",
    "def floatToBinary64(value):\n",
    "    val = struct.unpack('Q', struct.pack('d', value))[0]\n",
    "    return getBin(val)\n",
    " \n",
    "def binaryToFloat(value):\n",
    "    hx = hex(int(value, 2))   \n",
    "    return struct.unpack(\"d\", struct.pack(\"q\", int(hx, 16)))[0]\n",
    "\n",
    "def dec_to_bin_csv():\n",
    "    DATASRC = 'feature/dec/'\n",
    "    # 抓目錄下所有圖檔檔名\n",
    "    src_name = os.listdir(DATASRC)\n",
    "    for i in range (len(src_name)):\n",
    "\n",
    "        # 檔案完整路徑\n",
    "        src_path = DATASRC + src_name[i]\n",
    "        data = pd.read_csv(src_path,header=None)\n",
    "        \n",
    "        mean = [floatToBinary64(float(data[1][1])),floatToBinary64(float(data[2][1])),floatToBinary64(float(data[3][1]))]\n",
    "        std = [floatToBinary64(float(data[1][2])),floatToBinary64(float(data[2][2])),floatToBinary64(float(data[3][2]))]\n",
    "        weight = [floatToBinary64(float(data[1][3])),floatToBinary64(float(data[2][3])),floatToBinary64(float(data[3][3]))]\n",
    "        \n",
    "        MeanStd = [mean,std,weight]\n",
    "        MeanStd_table = pd.DataFrame(MeanStd)\n",
    "        col_name = ['red','green','blue']\n",
    "        row_name = ['Mean','Standard Deviation','weight']\n",
    "        MeanStd_table.columns = col_name\n",
    "        MeanStd_table.index = row_name\n",
    "        # print(MeanStd_table)\n",
    "\n",
    "        # 匯出 answer table 成 csv 檔\n",
    "        src_name_temp= Path(src_name[i]).stem \n",
    "        src_name_tempp = src_name_temp.rstrip('dec')\n",
    "        MeanStd_table.to_csv('output/bin/'+ src_name_tempp + 'bin.csv')"
   ]
  },
  {
   "cell_type": "code",
   "execution_count": 63,
   "id": "bc16818d",
   "metadata": {},
   "outputs": [],
   "source": [
    "def get_mean_and_std(typeStr, img_name, x, x_weight):\n",
    "    x_mean, x_std = cv2.meanStdDev(x)\n",
    "    x_mean = np.hstack(np.around(x_mean,2))\n",
    "    x_std = np.hstack(np.around(x_std,2))\n",
    "    \n",
    "    # 印出平均與標準差\n",
    "    if(typeStr == 's'):\n",
    "        print(\"\\n來源圖檔名: \", img_name)\n",
    "    elif(typeStr == 't'):\n",
    "        print(\"\\n目標圖檔名: \", img_name)\n",
    "    \n",
    "    MeanStd = [x_mean,x_std,x_weight]\n",
    "    MeanStd_table = pd.DataFrame(MeanStd)\n",
    "    col_name = ['red','green','blue']\n",
    "    row_name = ['Mean','Standard Deviation','weight']\n",
    "    MeanStd_table.columns = col_name\n",
    "    MeanStd_table.index = row_name\n",
    "    print(MeanStd_table)\n",
    "\n",
    "    # 匯出 answer table 成 csv 檔\n",
    "    MeanStd_table.to_csv('feature/dec/'+ img_name + '_dec.csv')\n",
    "    # 轉成 IEEE bin\n",
    "    dec_to_bin_csv()\n",
    "    \n",
    "    return x_mean, x_std"
   ]
  },
  {
   "cell_type": "code",
   "execution_count": 64,
   "id": "292e5423",
   "metadata": {},
   "outputs": [],
   "source": [
    "def color_transfer(src_lab, tar_lab, src_name, tar_name, coltra_name, coltra_num, weight_r, weight_g, weight_b):\n",
    "    \n",
    "    x_weight=[weight_r, weight_g, weight_b]\n",
    "    s_mean, s_std = get_mean_and_std('s', src_name, src_lab, x_weight)\n",
    "    t_mean, t_std = get_mean_and_std('t', tar_name, tar_lab, x_weight)\n",
    "\n",
    "    # height, width, channel = src_rgb.shape\n",
    "    \n",
    "    coltra_lab = src_lab\n",
    "\n",
    "    for k in range(0,3):\n",
    "        x = src_lab[:,:,k]\n",
    "        x = ((x-s_mean[k])*(((x_weight[k]*t_std[k])+(1-x_weight[k])*s_std[k])/s_std[k]))+ x_weight[k]*t_mean[k]+(1-x_weight[k])*s_mean[k]\n",
    "\n",
    "        # # round or +0.5\n",
    "        # x = np.round(x)\n",
    "        x = np.ceil(x)\n",
    "\n",
    "        # boundary check 超過邊界拉回在邊界上\n",
    "        x = np.clip(x, 0, 255)\n",
    "        coltra_lab[:,:,k] = x\n",
    "    \n",
    "    # 存顏色轉換結果圖\n",
    "    str_weight = '_' + str(weight_r) + '_' + str(weight_g) + '_' + str(weight_b)\n",
    "    # coltra_bgr = cv2.cvtColor(coltra_lab,cv2.COLOR_Lab2BGR)\n",
    "    coltra_rgb = color.lab2rgb(coltra_lab)\n",
    "    coltra_rgb = img_as_ubyte(coltra_rgb)\n",
    "    print(coltra_rgb.dtype)\n",
    "    io.imsave('result/'+ coltra_name + str_weight + '.png', coltra_rgb)\n",
    "    "
   ]
  },
  {
   "cell_type": "code",
   "execution_count": 65,
   "id": "4866e2e0",
   "metadata": {
    "scrolled": true
   },
   "outputs": [
    {
     "name": "stdout",
     "output_type": "stream",
     "text": [
      "\n",
      "來源圖檔名:  01_kodim17\n",
      "                      red  green  blue\n",
      "Mean                32.16   1.12  5.49\n",
      "Standard Deviation  20.81   3.27  6.75\n",
      "weight               0.49   0.54  0.62\n",
      "\n",
      "目標圖檔名:  01_kodim23\n",
      "                      red  green   blue\n",
      "Mean                47.09   0.56  20.69\n",
      "Standard Deviation  18.52  21.61  19.68\n",
      "weight               0.49   0.54   0.62\n"
     ]
    },
    {
     "name": "stderr",
     "output_type": "stream",
     "text": [
      "c:\\Users\\yam85\\anaconda3\\lib\\site-packages\\skimage\\_shared\\utils.py:394: UserWarning: Color data out of range: Z < 0 in 4 pixels\n",
      "  return func(*args, **kwargs)\n"
     ]
    },
    {
     "name": "stdout",
     "output_type": "stream",
     "text": [
      "uint8\n",
      "\n",
      "來源圖檔名:  02_kodim24\n",
      "                      red  green  blue\n",
      "Mean                45.42  -0.98  9.18\n",
      "Standard Deviation  21.03   5.42  7.79\n",
      "weight               0.49   0.54  0.62\n",
      "\n",
      "目標圖檔名:  02_kodim05\n",
      "                      red  green   blue\n",
      "Mean                34.58   2.59   9.54\n",
      "Standard Deviation  20.20  10.71  11.68\n",
      "weight               0.49   0.54   0.62\n",
      "uint8\n",
      "\n",
      "來源圖檔名:  03_kodim07\n",
      "                      red  green   blue\n",
      "Mean                46.52  -1.37  15.30\n",
      "Standard Deviation  15.06  10.02   9.95\n",
      "weight               0.49   0.54   0.62\n",
      "\n",
      "目標圖檔名:  03_kodim08\n",
      "                      red  green  blue\n",
      "Mean                50.29   2.26  3.57\n",
      "Standard Deviation  25.03   6.60  8.95\n",
      "weight               0.49   0.54  0.62\n",
      "uint8\n",
      "\n",
      "來源圖檔名:  04_miscanthus\n",
      "                      red  green  blue\n",
      "Mean                51.72   0.75  7.73\n",
      "Standard Deviation  31.62   3.11  8.38\n",
      "weight               0.49   0.54  0.62\n",
      "\n",
      "目標圖檔名:  04_sunset\n",
      "                      red  green   blue\n",
      "Mean                45.03   4.18  13.74\n",
      "Standard Deviation  26.93   7.83  14.16\n",
      "weight               0.49   0.54   0.62\n",
      "uint8\n",
      "\n",
      "來源圖檔名:  05_bed\n",
      "                      red  green   blue\n",
      "Mean                56.63   0.00  13.32\n",
      "Standard Deviation   9.23   9.07  26.17\n",
      "weight               0.49   0.54   0.62\n",
      "\n",
      "目標圖檔名:  05_blue\n",
      "                      red  green   blue\n",
      "Mean                46.26  11.98  -5.14\n",
      "Standard Deviation  28.81  19.91  35.17\n",
      "weight               0.49   0.54   0.62\n"
     ]
    },
    {
     "name": "stderr",
     "output_type": "stream",
     "text": [
      "c:\\Users\\yam85\\anaconda3\\lib\\site-packages\\skimage\\_shared\\utils.py:394: UserWarning: Color data out of range: Z < 0 in 7 pixels\n",
      "  return func(*args, **kwargs)\n"
     ]
    },
    {
     "name": "stdout",
     "output_type": "stream",
     "text": [
      "uint8\n",
      "\n",
      "來源圖檔名:  06_horse\n",
      "                      red  green   blue\n",
      "Mean                67.61  -2.37  15.40\n",
      "Standard Deviation  23.07   8.66   7.98\n",
      "weight               0.49   0.54   0.62\n",
      "\n",
      "目標圖檔名:  06_hat\n",
      "                      red  green   blue\n",
      "Mean                46.54  12.03  14.45\n",
      "Standard Deviation  21.66  20.50  21.88\n",
      "weight               0.49   0.54   0.62\n"
     ]
    },
    {
     "name": "stderr",
     "output_type": "stream",
     "text": [
      "c:\\Users\\yam85\\anaconda3\\lib\\site-packages\\skimage\\_shared\\utils.py:394: UserWarning: Color data out of range: Z < 0 in 23 pixels\n",
      "  return func(*args, **kwargs)\n"
     ]
    },
    {
     "name": "stdout",
     "output_type": "stream",
     "text": [
      "uint8\n"
     ]
    }
   ],
   "source": [
    "if __name__ == '__main__':\n",
    "\n",
    "    weight_r, weight_g, weight_b = input(\"Enter 3 channel weight_red , weight_green, weight_blue(0.0 ≤ w ≤ 1.0):\").split()\n",
    "    \n",
    "    weight_r = float(weight_r)\n",
    "    weight_g = float(weight_g)\n",
    "    weight_b = float(weight_b)\n",
    "    \n",
    "    # print(\"weight is: \" + weight_r, weight_g, weight_b)\n",
    "    # weight_r, weight_g, weight_b = 0.49,0.54,0.62\n",
    "\n",
    "    # 印出所有圖片\n",
    "    DATASRC = 'source/'\n",
    "    DATATRG = 'target/'\n",
    "\n",
    "    # 抓目錄下所有圖檔檔名\n",
    "    src_name = os.listdir(DATASRC)\n",
    "    tar_name = os.listdir(DATATRG)\n",
    "\n",
    "    for i in range (len(src_name)):\n",
    "    # for i in range (1):\n",
    "  \n",
    "        # 圖片完整路徑\n",
    "        src_path = DATASRC + src_name[i]\n",
    "        tar_path = DATATRG + tar_name[i]\n",
    "        \n",
    "        # convert img to array 以彩色格式讀取(三維)\n",
    "        src_rgb = io.imread(src_path)  \n",
    "        tar_rgb = io.imread(tar_path)\n",
    "        src_rgb = img_as_ubyte(src_rgb)\n",
    "        tar_rgb = img_as_ubyte(tar_rgb)\n",
    "\n",
    "        src_lab = color.rgb2lab(src_rgb)\n",
    "        tar_lab = color.rgb2lab(tar_rgb)\n",
    "        \n",
    "        # 去掉副檔名\n",
    "        src_name_temp= Path(src_path).stem \n",
    "        tar_name_temp= Path(tar_path).stem \n",
    "        tar_name_tempp = tar_name_temp.lstrip('0'+str(i+1))\n",
    "        coltra_name = src_name_temp + tar_name_tempp\n",
    "        \n",
    "        # 做色彩轉換\n",
    "        color_transfer(src_lab, tar_lab, src_name_temp, tar_name_temp, coltra_name, i+1, weight_r, weight_g, weight_b)\n"
   ]
  },
  {
   "cell_type": "code",
   "execution_count": null,
   "id": "fafda741",
   "metadata": {},
   "outputs": [],
   "source": []
  }
 ],
 "metadata": {
  "kernelspec": {
   "display_name": "base",
   "language": "python",
   "name": "python3"
  },
  "language_info": {
   "codemirror_mode": {
    "name": "ipython",
    "version": 3
   },
   "file_extension": ".py",
   "mimetype": "text/x-python",
   "name": "python",
   "nbconvert_exporter": "python",
   "pygments_lexer": "ipython3",
   "version": "3.9.12"
  },
  "vscode": {
   "interpreter": {
    "hash": "a077222d77dfe082b8f1dd562ad70e458ac2ab76993a0b248ab0476e32e9e8dd"
   }
  }
 },
 "nbformat": 4,
 "nbformat_minor": 5
}
