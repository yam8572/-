{
 "cells": [
  {
   "cell_type": "code",
<<<<<<< HEAD
   "execution_count": 1,
=======
   "execution_count": 20,
   "metadata": {},
   "outputs": [],
   "source": [
    "import pandas as pd\n",
    "import os # use directory & join path\n",
    "import struct"
   ]
  },
  {
   "cell_type": "code",
   "execution_count": 4,
>>>>>>> 7f205a1284bede713b6d3bd8ad17de1f3be82435
   "metadata": {},
   "outputs": [],
   "source": [
    "import pandas as pd\n",
    "import os # use directory & join path\n",
    "from pathlib import Path # 去掉副檔名\n",
    "import struct"
   ]
  },
  {
   "attachments": {},
   "cell_type": "markdown",
   "metadata": {},
   "source": [
    "### floats are represented by IEEE 754 floating-point format which are 64 bits long (not 32 bits)\n",
    " \n",
    "### float to binary\n",
    "binstr = floatToBinary64(19.5)\n",
    "print('Binary equivalent of 19.5:')\n",
    "print(binstr + '\\n')\n",
    " \n",
    "### binary to float\n",
    "fl = binaryToFloat(binstr)\n",
    "print('Decimal equivalent of ' + binstr)\n",
    "print(fl)"
   ]
  },
  {
   "cell_type": "code",
<<<<<<< HEAD
   "execution_count": 2,
=======
   "execution_count": 19,
   "metadata": {},
   "outputs": [
    {
     "name": "stdout",
     "output_type": "stream",
     "text": [
      "                    0      1      2      3\n",
      "0                 NaN    red  green   blue\n",
      "1                Mean  82.68  77.05  69.02\n",
      "2  Standard Deviation  46.94  50.11  47.93\n",
      "77.05\n"
     ]
    }
   ],
   "source": [
    "import pandas as pd\n",
    "data = pd.read_csv(\"feature/01_kodim17_dec.csv\", header=None)\n",
    "print(data)\n",
    "print(data[2][1])\n",
    "123"
   ]
  },
  {
   "cell_type": "code",
   "execution_count": 22,
   "metadata": {},
   "outputs": [
    {
     "name": "stdout",
     "output_type": "stream",
     "text": [
      "feature/01_kodim17_dec.csv\n",
      "feature/01_kodim23_dec.csv\n",
      "feature/02_kodim05_dec.csv\n",
      "feature/02_kodim24_dec.csv\n",
      "feature/03_kodim07_dec.csv\n",
      "feature/03_kodim08_dec.csv\n",
      "feature/04_miscanthus_dec.csv\n",
      "feature/04_sunset_dec.csv\n",
      "feature/05_bed_dec.csv\n",
      "feature/05_blue_dec.csv\n",
      "feature/06_hat_dec.csv\n",
      "feature/06_horse_dec.csv\n"
     ]
    }
   ],
   "source": [
    "DATASRC = 'feature/'\n",
    "\n",
    "# 抓目錄下所有圖檔檔名\n",
    "src_name = os.listdir(DATASRC)\n",
    "for i in range (len(src_name)):\n",
    "    # 圖片完整路徑\n",
    "    src_path = DATASRC + src_name[i]\n",
    "    print(src_path)\n",
    "    data = pd.read_csv(src_path,header=None)"
   ]
  },
  {
   "cell_type": "code",
   "execution_count": 1,
>>>>>>> 7f205a1284bede713b6d3bd8ad17de1f3be82435
   "metadata": {},
   "outputs": [],
   "source": [
    "getBin = lambda x: x > 0 and str(bin(x))[2:] or \"-\" + str(bin(x))[3:]\n",
    " \n",
    "def floatToBinary64(value):\n",
    "    val = struct.unpack('Q', struct.pack('d', value))[0]\n",
    "    return getBin(val)\n",
    " \n",
    "def binaryToFloat(value):\n",
    "    hx = hex(int(value, 2))   \n",
    "    return struct.unpack(\"d\", struct.pack(\"q\", int(hx, 16)))[0]"
   ]
  },
  {
   "cell_type": "code",
   "execution_count": 3,
   "metadata": {},
   "outputs": [],
   "source": [
    "def dec_to_bin_csv():\n",
    "    DATASRC = 'feature/dec/'\n",
    "    # 抓目錄下所有圖檔檔名\n",
    "    src_name = os.listdir(DATASRC)\n",
    "    for i in range (len(src_name)):\n",
    "\n",
    "        # 檔案完整路徑\n",
    "        src_path = DATASRC + src_name[i]\n",
    "        data = pd.read_csv(src_path,header=None)\n",
    "        \n",
    "        mean = [floatToBinary64(float(data[1][1])),floatToBinary64(float(data[2][1])),floatToBinary64(float(data[3][1]))]\n",
    "        std = [floatToBinary64(float(data[1][2])),floatToBinary64(float(data[2][2])),floatToBinary64(float(data[3][2]))]\n",
    "        MeanStd = [mean,std]\n",
    "        MeanStd_table = pd.DataFrame(MeanStd)\n",
    "        col_name = ['red','green','blue']\n",
    "        row_name = ['Mean','Standard Deviation']\n",
    "        MeanStd_table.columns = col_name\n",
    "        MeanStd_table.index = row_name\n",
    "        # print(MeanStd_table)\n",
    "\n",
    "        # 匯出 answer table 成 csv 檔\n",
    "        src_name_temp= Path(src_name[i]).stem \n",
    "        src_name_tempp = src_name_temp.rstrip('dec')\n",
    "        MeanStd_table.to_csv('output/bin/'+ src_name_tempp + 'bin.csv')"
   ]
  },
  {
   "cell_type": "code",
   "execution_count": 4,
   "metadata": {},
   "outputs": [],
   "source": [
    "def bin_to_dec_csv():\n",
    "    DATASRC = 'feature/bin/'\n",
    "    # 抓目錄下所有圖檔檔名\n",
    "    src_name = os.listdir(DATASRC)\n",
    "    for i in range (len(src_name)):\n",
    "\n",
    "        # 檔案完整路徑\n",
    "        src_path = DATASRC + src_name[i]\n",
    "        data = pd.read_csv(src_path,header=None)\n",
    "\n",
    "        mean = [binaryToFloat(data[1][1]),binaryToFloat(data[2][1]),binaryToFloat(data[3][1])]\n",
    "        std = [binaryToFloat(data[1][2]),binaryToFloat(data[2][2]),binaryToFloat(data[3][2])]\n",
    "        MeanStd = [mean,std]\n",
    "        MeanStd_table = pd.DataFrame(MeanStd)\n",
    "        col_name = ['red','green','blue']\n",
    "        row_name = ['Mean','Standard Deviation']\n",
    "        MeanStd_table.columns = col_name\n",
    "        MeanStd_table.index = row_name\n",
    "        # print(MeanStd_table)\n",
    "\n",
    "        # 匯出 answer table 成 csv 檔\n",
    "        src_name_temp= Path(src_name[i]).stem \n",
    "        src_name_tempp = src_name_temp.rstrip('bin')\n",
    "        MeanStd_table.to_csv('output/dec/'+ src_name_tempp + 'dec.csv')"
   ]
  },
  {
   "cell_type": "code",
   "execution_count": 5,
   "metadata": {},
   "outputs": [
    {
     "name": "stdout",
     "output_type": "stream",
     "text": [
      "選單 1: Decimal to IEEE-754 按 1\n",
      "選單 2: IEEE-754 to Decimal 按 2\n",
      "選單 3: 結束程式 按 3\n",
      "Decimal to IEEE-754 完成 ! 請至 output 資料夾下 bin 資料夾看轉換結果。\n",
      "選單 1: Decimal to IEEE-754 按 1\n",
      "選單 2: IEEE-754 to Decimal 按 2\n",
      "選單 3: 結束程式 按 3\n",
      "IEEE-754 to Decimal 完成 ! 請至 output 資料夾下 dec 資料夾看轉換結果。\n",
      "選單 1: Decimal to IEEE-754 按 1\n",
      "選單 2: IEEE-754 to Decimal 按 2\n",
      "選單 3: 結束程式 按 3\n",
      "無此選單，請依選單輸入 1 2 3\n",
      "選單 1: Decimal to IEEE-754 按 1\n",
      "選單 2: IEEE-754 to Decimal 按 2\n",
      "選單 3: 結束程式 按 3\n",
      "結束程式\n"
     ]
    }
   ],
   "source": [
    "if __name__ == '__main__':\n",
    "    choice=0\n",
    "    while(choice != 3):\n",
    "        print(\"選單 1: Decimal to IEEE-754 按 1\")\n",
    "        print(\"選單 2: IEEE-754 to Decimal 按 2\")\n",
    "        print(\"選單 3: 結束程式 按 3\")\n",
    "        choice = input(\"請選擇：\")\n",
    "        choice = int(choice)\n",
    "        if(choice == 1):\n",
    "            dec_to_bin_csv()\n",
    "            print(\"Decimal to IEEE-754 完成 ! 請至 output 資料夾下 bin 資料夾看轉換結果。\")\n",
    "        elif(choice == 2):\n",
    "            bin_to_dec_csv()\n",
    "            print(\"IEEE-754 to Decimal 完成 ! 請至 output 資料夾下 dec 資料夾看轉換結果。\")\n",
    "\n",
    "        elif(choice == 3):\n",
    "            print(\"結束程式\")\n",
    "        elif(choice != 1 and choice != 2 and choice != 3):\n",
    "            print(\"無此選單，請依選單輸入 1 2 3\")"
   ]
  },
  {
   "attachments": {},
   "cell_type": "markdown",
   "metadata": {},
   "source": [
    "## IEEE754 single precision\n",
    "https://github.com/lovelessless99/IEEE_754_Tutorial<br>\n",
    "https://github.com/lovelessless99/IEEE_754_Tutorial/blob/master/Floating_Points.ipynb<br>"
   ]
  },
  {
   "cell_type": "code",
   "execution_count": 6,
   "metadata": {},
   "outputs": [
    {
     "name": "stdout",
     "output_type": "stream",
     "text": [
      "Requirement already satisfied: bitstring in c:\\users\\yam85\\anaconda3\\lib\\site-packages (4.0.1)\n"
     ]
    }
   ],
   "source": [
    "! pip install bitstring"
   ]
  },
  {
   "cell_type": "code",
   "execution_count": 7,
   "metadata": {},
   "outputs": [
    {
     "name": "stdout",
     "output_type": "stream",
     "text": [
      "Float number: 19.5   0 10000011 00111000000000000000000 Actually stored Value = 19.5\n"
     ]
    }
   ],
   "source": [
    "import bitstring\n",
    "def float_2_IEEE754(float_num):\n",
    "      bit_pattern = bitstring.BitArray(float=float_num, length=32)\n",
    "      sign = bit_pattern.bin[0]   # 1 bit\n",
    "      exp  = bit_pattern.bin[1:9] # 8 bits\n",
    "      frac = bit_pattern.bin[9:]  # 23 bits\n",
    "      print(f\"Float number: {float_num}  \", sign, exp, frac, \n",
    "            f\"Actually stored Value = {bit_pattern.float}\")\n",
    "\n",
    "float_2_IEEE754(19.5)"
   ]
  },
  {
   "cell_type": "code",
   "execution_count": 8,
   "metadata": {},
   "outputs": [
    {
     "data": {
      "text/plain": [
       "19.5"
      ]
     },
     "execution_count": 8,
     "metadata": {},
     "output_type": "execute_result"
    }
   ],
   "source": [
    "def bit_2_float(bit_string):\n",
    "      sign = bit_string[0]   # 1 bit\n",
    "      exp  = bit_string[1:9] # 8 bits\n",
    "      frac = bit_string[9:]  # 23 bits\n",
    "\n",
    "      power = int(exp, 2) - 127\n",
    "      value = 0\n",
    "      start = 1 # 從 1/2 ^ 1 開始\n",
    "      for bit in frac:\n",
    "            value += int(bit) * 0.5 ** start\n",
    "            start += 1\n",
    "\n",
    "      return ( 1 + value) * 2 ** power\n",
    "\n",
    "test_bitstr = \"01000001100111000000000000000000\" # 19.5\n",
    "bit_2_float(test_bitstr)"
   ]
  }
 ],
 "metadata": {
  "kernelspec": {
   "display_name": "base",
   "language": "python",
   "name": "python3"
  },
  "language_info": {
   "codemirror_mode": {
    "name": "ipython",
    "version": 3
   },
   "file_extension": ".py",
   "mimetype": "text/x-python",
   "name": "python",
   "nbconvert_exporter": "python",
   "pygments_lexer": "ipython3",
   "version": "3.9.12 (main, Apr  4 2022, 05:22:27) [MSC v.1916 64 bit (AMD64)]"
  },
  "orig_nbformat": 4,
  "vscode": {
   "interpreter": {
    "hash": "9ab3e119320a66bc69aa58300750c0a355ef5297a9e7cbd323923bdb9fbe6029"
   }
  }
 },
 "nbformat": 4,
 "nbformat_minor": 2
}
