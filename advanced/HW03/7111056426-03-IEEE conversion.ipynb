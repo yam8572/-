{
 "cells": [
  {
   "cell_type": "code",
   "execution_count": 4,
   "metadata": {},
   "outputs": [
    {
     "name": "stdout",
     "output_type": "stream",
     "text": [
      "選單 1: Decimal to IEEE-754 按 1\n",
      "選單 2: IEEE-754 to Decimal 按 2\n",
      "選單 3: 結束程式 按 3\n",
      "5\n",
      "選單 1: Decimal to IEEE-754 按 1\n",
      "選單 2: IEEE-754 to Decimal 按 2\n",
      "選單 3: 結束程式 按 3\n",
      "3\n"
     ]
    }
   ],
   "source": [
    "choice=0\n",
    "while(choice != 3):\n",
    "    print(\"選單 1: Decimal to IEEE-754 按 1\")\n",
    "    print(\"選單 2: IEEE-754 to Decimal 按 2\")\n",
    "    print(\"選單 3: 結束程式 按 3\")\n",
    "    choice = input(\"請選擇：\")\n",
    "    choice = int(choice)"
   ]
  },
  {
   "cell_type": "code",
   "execution_count": 1,
   "metadata": {},
   "outputs": [
    {
     "name": "stdout",
     "output_type": "stream",
     "text": [
      "Binary equivalent of 19.5:\n",
      "100000000110011100000000000000000000000000000000000000000000000\n",
      "\n",
      "Decimal equivalent of 100000000110011100000000000000000000000000000000000000000000000\n",
      "19.5\n"
     ]
    }
   ],
   "source": [
    "import struct\n",
    " \n",
    "getBin = lambda x: x > 0 and str(bin(x))[2:] or \"-\" + str(bin(x))[3:]\n",
    " \n",
    "def floatToBinary64(value):\n",
    "    val = struct.unpack('Q', struct.pack('d', value))[0]\n",
    "    return getBin(val)\n",
    " \n",
    "def binaryToFloat(value):\n",
    "    hx = hex(int(value, 2))   \n",
    "    return struct.unpack(\"d\", struct.pack(\"q\", int(hx, 16)))[0]\n",
    " \n",
    "# floats are represented by IEEE 754 floating-point format which are \n",
    "# 64 bits long (not 32 bits)\n",
    " \n",
    "# float to binary\n",
    "binstr = floatToBinary64(19.5)\n",
    "print('Binary equivalent of 19.5:')\n",
    "print(binstr + '\\n')\n",
    " \n",
    "# binary to float\n",
    "fl = binaryToFloat(binstr)\n",
    "print('Decimal equivalent of ' + binstr)\n",
    "print(fl)"
   ]
  },
  {
   "cell_type": "code",
   "execution_count": 4,
   "metadata": {},
   "outputs": [
    {
     "name": "stdout",
     "output_type": "stream",
     "text": [
      "0000000000000000000000000000000001000001100111000000000000000000\n"
     ]
    }
   ],
   "source": [
    "def float_to_bin(num):\n",
    "    bits, = struct.unpack('!I', struct.pack('!f', num))\n",
    "    return \"{:064b}\".format(bits)\n",
    "\n",
    "print(float_to_bin(19.5))"
   ]
  },
  {
   "attachments": {},
   "cell_type": "markdown",
   "metadata": {},
   "source": [
    "https://github.com/lovelessless99/IEEE_754_Tutorial\n",
    "https://github.com/lovelessless99/IEEE_754_Tutorial/blob/master/Floating_Points.ipynb"
   ]
  },
  {
   "cell_type": "code",
   "execution_count": 8,
   "metadata": {},
   "outputs": [
    {
     "name": "stdout",
     "output_type": "stream",
     "text": [
      "Collecting bitstring\n",
      "  Downloading bitstring-4.0.1-py3-none-any.whl (45 kB)\n",
      "Installing collected packages: bitstring\n",
      "Successfully installed bitstring-4.0.1\n"
     ]
    }
   ],
   "source": [
    "! pip install bitstring"
   ]
  },
  {
   "cell_type": "code",
   "execution_count": 10,
   "metadata": {},
   "outputs": [
    {
     "name": "stdout",
     "output_type": "stream",
     "text": [
      "Float number: 19.5   0 10000011 00111000000000000000000 Actually stored Value = 19.5\n"
     ]
    }
   ],
   "source": [
    "import bitstring\n",
    "def float_2_IEEE754(float_num):\n",
    "        bit_pattern = bitstring.BitArray(float=float_num, length=32)\n",
    "        sign = bit_pattern.bin[0]   # 1 bit\n",
    "        exp  = bit_pattern.bin[1:9] # 8 bits\n",
    "        frac = bit_pattern.bin[9:]  # 23 bits\n",
    "        print(f\"Float number: {float_num}  \", sign, exp, frac, \n",
    "              f\"Actually stored Value = {bit_pattern.float}\")\n",
    "\n",
    "float_2_IEEE754(19.5)"
   ]
  },
  {
   "cell_type": "code",
   "execution_count": 11,
   "metadata": {},
   "outputs": [
    {
     "data": {
      "text/plain": [
       "19.5"
      ]
     },
     "execution_count": 11,
     "metadata": {},
     "output_type": "execute_result"
    }
   ],
   "source": [
    "def bit_2_float(bit_string):\n",
    "        sign = bit_string[0]   # 1 bit\n",
    "        exp  = bit_string[1:9] # 8 bits\n",
    "        frac = bit_string[9:]  # 23 bits\n",
    "\n",
    "        power = int(exp, 2) - 127\n",
    "        value = 0\n",
    "        start = 1 # 從 1/2 ^ 1 開始\n",
    "        for bit in frac:\n",
    "                value += int(bit) * 0.5 ** start\n",
    "                start += 1\n",
    "        \n",
    "        return ( 1 + value) * 2 ** power\n",
    "\n",
    "test_bitstr = \"01000001100111000000000000000000\" # 19.5\n",
    "bit_2_float(test_bitstr)"
   ]
  }
 ],
 "metadata": {
  "kernelspec": {
   "display_name": "base",
   "language": "python",
   "name": "python3"
  },
  "language_info": {
   "codemirror_mode": {
    "name": "ipython",
    "version": 3
   },
   "file_extension": ".py",
   "mimetype": "text/x-python",
   "name": "python",
   "nbconvert_exporter": "python",
   "pygments_lexer": "ipython3",
   "version": "3.9.12"
  },
  "orig_nbformat": 4,
  "vscode": {
   "interpreter": {
    "hash": "a077222d77dfe082b8f1dd562ad70e458ac2ab76993a0b248ab0476e32e9e8dd"
   }
  }
 },
 "nbformat": 4,
 "nbformat_minor": 2
}
