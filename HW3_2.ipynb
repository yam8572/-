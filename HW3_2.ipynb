{
 "cells": [
  {
   "cell_type": "code",
   "execution_count": 1,
   "metadata": {},
   "outputs": [],
   "source": [
    "import sys\n",
    "import cv2\n",
    "import numpy as np\n",
    "import matplotlib.pyplot as plt\n",
    "import math"
   ]
  },
  {
   "cell_type": "markdown",
   "metadata": {},
   "source": [
    "# 載入圖片"
   ]
  },
  {
   "cell_type": "code",
   "execution_count": 2,
   "metadata": {},
   "outputs": [
    {
     "name": "stdout",
     "output_type": "stream",
     "text": [
      "(512, 512)\n",
      "512 512\n"
     ]
    }
   ],
   "source": [
    "img=cv2.imread(\"circle.jpg\",0)\n",
    "imgInfo = img.shape\n",
    "height = imgInfo[0]\n",
    "width = imgInfo[1]\n",
    "print(img.shape)\n",
    "kernel=np.array([[0,1,0],[1,1,1],[0,1,0]],np.uint8)\n",
    "not_img = cv2.bitwise_not(img)\n",
    "#185,220\n",
    "print(height,width)"
   ]
  },
  {
   "cell_type": "markdown",
   "metadata": {},
   "source": [
    "# 利用小畫家找出起始座標(白點)"
   ]
  },
  {
   "cell_type": "code",
   "execution_count": 3,
   "metadata": {},
   "outputs": [
    {
     "name": "stdout",
     "output_type": "stream",
     "text": [
      "0\n"
     ]
    }
   ],
   "source": [
    "print(img[185][220])\n",
    "sta_x=185\n",
    "sta_y=220\n",
    "x = np.zeros((512,512),np.uint8)\n",
    "x[sta_x][sta_y] = 255"
   ]
  },
  {
   "cell_type": "markdown",
   "metadata": {},
   "source": [
    "# dilation函式"
   ]
  },
  {
   "cell_type": "code",
   "execution_count": 4,
   "metadata": {},
   "outputs": [],
   "source": [
    "def dilation(x):\n",
    "    result = np.zeros((514,514),np.uint8)\n",
    "    x = cv2.copyMakeBorder(x,1,1,1,1, cv2.BORDER_CONSTANT,value=[0,0,0])\n",
    "    for i in range(1,513):\n",
    "        for j in range(1,513):\n",
    "            result[i][j] = max(x[i-1][j],x[i][j-1],x[i][j],x[i][j+1],x[i+1][j])\n",
    "    return result[1:513,1:513]"
   ]
  },
  {
   "cell_type": "markdown",
   "metadata": {},
   "source": [
    "# 將Structures Element與照片的補集合做and"
   ]
  },
  {
   "cell_type": "code",
   "execution_count": 5,
   "metadata": {},
   "outputs": [],
   "source": [
    "y = cv2.bitwise_and(dilation(x),not_img)\n",
    "while ~((x==y).all()):\n",
    "    x = y\n",
    "    y = cv2.bitwise_and(dilation(x),not_img)\n",
    "y = cv2.bitwise_or(y,img)\n",
    "\n",
    "\n"
   ]
  },
  {
   "cell_type": "markdown",
   "metadata": {},
   "source": [
    "# 儲存圖片"
   ]
  },
  {
   "cell_type": "code",
   "execution_count": 6,
   "metadata": {},
   "outputs": [
    {
     "data": {
      "text/plain": [
       "True"
      ]
     },
     "execution_count": 6,
     "metadata": {},
     "output_type": "execute_result"
    }
   ],
   "source": [
    "cv2.imshow('y',y)\n",
    "cv2.waitKey(0)\n",
    "cv2.destroyAllWindows()\n",
    "cv2.imwrite('output.png',y)"
   ]
  }
 ],
 "metadata": {
  "kernelspec": {
   "display_name": "Python 3",
   "language": "python",
   "name": "python3"
  },
  "language_info": {
   "codemirror_mode": {
    "name": "ipython",
    "version": 3
   },
   "file_extension": ".py",
   "mimetype": "text/x-python",
   "name": "python",
   "nbconvert_exporter": "python",
   "pygments_lexer": "ipython3",
   "version": "3.6.12"
  }
 },
 "nbformat": 4,
 "nbformat_minor": 4
}
